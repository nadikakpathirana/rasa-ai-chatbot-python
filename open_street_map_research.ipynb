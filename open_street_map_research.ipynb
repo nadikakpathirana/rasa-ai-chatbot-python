{
 "cells": [
  {
   "cell_type": "code",
   "execution_count": 2,
   "outputs": [
    {
     "data": {
      "text/plain": "                        highway                    geometry crossing bicycle  \\\nelement_type osmid                                                             \nnode         1436419052     NaN  POINT (-75.77408 45.34763)      NaN     NaN   \n             1659480286     NaN  POINT (-75.75268 45.38357)      NaN     NaN   \n             1659868686     NaN  POINT (-75.75165 45.37562)      NaN     NaN   \n             4567873631     NaN  POINT (-75.70546 45.46724)      NaN     NaN   \n             5973552993     NaN  POINT (-75.70492 45.34326)      NaN     NaN   \n\n                        source level     access material wheelchair  \\\nelement_type osmid                                                    \nnode         1436419052    NaN   NaN        yes      NaN        yes   \n             1659480286    NaN   NaN        NaN      NaN        NaN   \n             1659868686    NaN   NaN        NaN      NaN        NaN   \n             4567873631    NaN   NaN  customers      NaN        NaN   \n             5973552993    NaN   NaN        NaN      NaN        NaN   \n\n                        description  ... construction place centreline  \\\nelement_type osmid                   ...                                 \nnode         1436419052         NaN  ...          NaN   NaN        NaN   \n             1659480286         NaN  ...          NaN   NaN        NaN   \n             1659868686         NaN  ...          NaN   NaN        NaN   \n             4567873631         NaN  ...          NaN   NaN        NaN   \n             5973552993         NaN  ...          NaN   NaN        NaN   \n\n                        historic tracktype old_name snowplowing playground  \\\nelement_type osmid                                                           \nnode         1436419052      NaN       NaN      NaN         NaN        NaN   \n             1659480286      NaN       NaN      NaN         NaN        NaN   \n             1659868686      NaN       NaN      NaN         NaN        NaN   \n             4567873631      NaN       NaN      NaN         NaN        NaN   \n             5973552993      NaN       NaN      NaN         NaN        NaN   \n\n                        ways type  \nelement_type osmid                 \nnode         1436419052  NaN  NaN  \n             1659480286  NaN  NaN  \n             1659868686  NaN  NaN  \n             4567873631  NaN  NaN  \n             5973552993  NaN  NaN  \n\n[5 rows x 124 columns]",
      "text/html": "<div>\n<style scoped>\n    .dataframe tbody tr th:only-of-type {\n        vertical-align: middle;\n    }\n\n    .dataframe tbody tr th {\n        vertical-align: top;\n    }\n\n    .dataframe thead th {\n        text-align: right;\n    }\n</style>\n<table border=\"1\" class=\"dataframe\">\n  <thead>\n    <tr style=\"text-align: right;\">\n      <th></th>\n      <th></th>\n      <th>highway</th>\n      <th>geometry</th>\n      <th>crossing</th>\n      <th>bicycle</th>\n      <th>source</th>\n      <th>level</th>\n      <th>access</th>\n      <th>material</th>\n      <th>wheelchair</th>\n      <th>description</th>\n      <th>...</th>\n      <th>construction</th>\n      <th>place</th>\n      <th>centreline</th>\n      <th>historic</th>\n      <th>tracktype</th>\n      <th>old_name</th>\n      <th>snowplowing</th>\n      <th>playground</th>\n      <th>ways</th>\n      <th>type</th>\n    </tr>\n    <tr>\n      <th>element_type</th>\n      <th>osmid</th>\n      <th></th>\n      <th></th>\n      <th></th>\n      <th></th>\n      <th></th>\n      <th></th>\n      <th></th>\n      <th></th>\n      <th></th>\n      <th></th>\n      <th></th>\n      <th></th>\n      <th></th>\n      <th></th>\n      <th></th>\n      <th></th>\n      <th></th>\n      <th></th>\n      <th></th>\n      <th></th>\n      <th></th>\n    </tr>\n  </thead>\n  <tbody>\n    <tr>\n      <th rowspan=\"5\" valign=\"top\">node</th>\n      <th>1436419052</th>\n      <td>NaN</td>\n      <td>POINT (-75.77408 45.34763)</td>\n      <td>NaN</td>\n      <td>NaN</td>\n      <td>NaN</td>\n      <td>NaN</td>\n      <td>yes</td>\n      <td>NaN</td>\n      <td>yes</td>\n      <td>NaN</td>\n      <td>...</td>\n      <td>NaN</td>\n      <td>NaN</td>\n      <td>NaN</td>\n      <td>NaN</td>\n      <td>NaN</td>\n      <td>NaN</td>\n      <td>NaN</td>\n      <td>NaN</td>\n      <td>NaN</td>\n      <td>NaN</td>\n    </tr>\n    <tr>\n      <th>1659480286</th>\n      <td>NaN</td>\n      <td>POINT (-75.75268 45.38357)</td>\n      <td>NaN</td>\n      <td>NaN</td>\n      <td>NaN</td>\n      <td>NaN</td>\n      <td>NaN</td>\n      <td>NaN</td>\n      <td>NaN</td>\n      <td>NaN</td>\n      <td>...</td>\n      <td>NaN</td>\n      <td>NaN</td>\n      <td>NaN</td>\n      <td>NaN</td>\n      <td>NaN</td>\n      <td>NaN</td>\n      <td>NaN</td>\n      <td>NaN</td>\n      <td>NaN</td>\n      <td>NaN</td>\n    </tr>\n    <tr>\n      <th>1659868686</th>\n      <td>NaN</td>\n      <td>POINT (-75.75165 45.37562)</td>\n      <td>NaN</td>\n      <td>NaN</td>\n      <td>NaN</td>\n      <td>NaN</td>\n      <td>NaN</td>\n      <td>NaN</td>\n      <td>NaN</td>\n      <td>NaN</td>\n      <td>...</td>\n      <td>NaN</td>\n      <td>NaN</td>\n      <td>NaN</td>\n      <td>NaN</td>\n      <td>NaN</td>\n      <td>NaN</td>\n      <td>NaN</td>\n      <td>NaN</td>\n      <td>NaN</td>\n      <td>NaN</td>\n    </tr>\n    <tr>\n      <th>4567873631</th>\n      <td>NaN</td>\n      <td>POINT (-75.70546 45.46724)</td>\n      <td>NaN</td>\n      <td>NaN</td>\n      <td>NaN</td>\n      <td>NaN</td>\n      <td>customers</td>\n      <td>NaN</td>\n      <td>NaN</td>\n      <td>NaN</td>\n      <td>...</td>\n      <td>NaN</td>\n      <td>NaN</td>\n      <td>NaN</td>\n      <td>NaN</td>\n      <td>NaN</td>\n      <td>NaN</td>\n      <td>NaN</td>\n      <td>NaN</td>\n      <td>NaN</td>\n      <td>NaN</td>\n    </tr>\n    <tr>\n      <th>5973552993</th>\n      <td>NaN</td>\n      <td>POINT (-75.70492 45.34326)</td>\n      <td>NaN</td>\n      <td>NaN</td>\n      <td>NaN</td>\n      <td>NaN</td>\n      <td>NaN</td>\n      <td>NaN</td>\n      <td>NaN</td>\n      <td>NaN</td>\n      <td>...</td>\n      <td>NaN</td>\n      <td>NaN</td>\n      <td>NaN</td>\n      <td>NaN</td>\n      <td>NaN</td>\n      <td>NaN</td>\n      <td>NaN</td>\n      <td>NaN</td>\n      <td>NaN</td>\n      <td>NaN</td>\n    </tr>\n  </tbody>\n</table>\n<p>5 rows × 124 columns</p>\n</div>"
     },
     "execution_count": 2,
     "metadata": {},
     "output_type": "execute_result"
    }
   ],
   "source": [
    "import osmnx as ox\n",
    "\n",
    "place_name = \"Ottawa, Ontario, Canada\"\n",
    "\n",
    "tags = {\n",
    "    'leisure': ['swimming_pool','swimming_area', 'track'], # swimming_places, walking_paths\n",
    "    'sport': ['swimming', 'running'], # swimming_places, walking_paths\n",
    "    'highway': 'footway', # walking_paths\n",
    "    'footway': 'sidewalk', # walking_paths\n",
    "    # 'route': ['foot', 'running'] # walking_paths\n",
    "    # 'route': True\n",
    "}\n",
    "\n",
    "places = ox.geometries_from_address(place_name, tags=tags, dist=10000)\n",
    "places.head()"
   ],
   "metadata": {
    "collapsed": false,
    "pycharm": {
     "name": "#%%\n"
    }
   }
  },
  {
   "cell_type": "code",
   "execution_count": 3,
   "outputs": [
    {
     "data": {
      "text/plain": "                        highway  \\\nelement_type osmid                \nnode         1436419052     NaN   \n             1659480286     NaN   \n             1659868686     NaN   \n             4567873631     NaN   \n             5973552993     NaN   \n...                         ...   \nrelation     2178076        NaN   \n             2479320        NaN   \n             2573239        NaN   \n             3421287        NaN   \n             7395673        NaN   \n\n                                                                  geometry  \\\nelement_type osmid                                                           \nnode         1436419052                         POINT (-75.77408 45.34763)   \n             1659480286                         POINT (-75.75268 45.38357)   \n             1659868686                         POINT (-75.75165 45.37562)   \n             4567873631                         POINT (-75.70546 45.46724)   \n             5973552993                         POINT (-75.70492 45.34326)   \n...                                                                    ...   \nrelation     2178076     POLYGON ((-75.65819 45.37720, -75.65817 45.377...   \n             2479320     POLYGON ((-75.64233 45.43624, -75.64228 45.436...   \n             2573239     POLYGON ((-75.72895 45.35584, -75.72899 45.355...   \n             3421287     POLYGON ((-75.65845 45.37890, -75.65842 45.378...   \n             7395673     POLYGON ((-75.69178 45.37076, -75.69158 45.370...   \n\n                        crossing bicycle source level     access material  \\\nelement_type osmid                                                          \nnode         1436419052      NaN     NaN    NaN   NaN        yes      NaN   \n             1659480286      NaN     NaN    NaN   NaN        NaN      NaN   \n             1659868686      NaN     NaN    NaN   NaN        NaN      NaN   \n             4567873631      NaN     NaN    NaN   NaN  customers      NaN   \n             5973552993      NaN     NaN    NaN   NaN        NaN      NaN   \n...                          ...     ...    ...   ...        ...      ...   \nrelation     2178076         NaN     NaN    NaN   NaN        NaN      NaN   \n             2479320         NaN     NaN   Bing   NaN        NaN      NaN   \n             2573239         NaN     NaN   Bing   NaN        NaN      NaN   \n             3421287         NaN     NaN    NaN   NaN        NaN      NaN   \n             7395673         NaN     NaN    NaN   NaN        NaN      NaN   \n\n                        wheelchair description  ... construction place  \\\nelement_type osmid                              ...                      \nnode         1436419052        yes         NaN  ...          NaN   NaN   \n             1659480286        NaN         NaN  ...          NaN   NaN   \n             1659868686        NaN         NaN  ...          NaN   NaN   \n             4567873631        NaN         NaN  ...          NaN   NaN   \n             5973552993        NaN         NaN  ...          NaN   NaN   \n...                            ...         ...  ...          ...   ...   \nrelation     2178076           NaN         NaN  ...          NaN   NaN   \n             2479320           NaN         NaN  ...          NaN   NaN   \n             2573239           NaN         NaN  ...          NaN   NaN   \n             3421287           NaN         NaN  ...          NaN   NaN   \n             7395673           NaN         NaN  ...          NaN   NaN   \n\n                        centreline historic tracktype old_name snowplowing  \\\nelement_type osmid                                                           \nnode         1436419052        NaN      NaN       NaN      NaN         NaN   \n             1659480286        NaN      NaN       NaN      NaN         NaN   \n             1659868686        NaN      NaN       NaN      NaN         NaN   \n             4567873631        NaN      NaN       NaN      NaN         NaN   \n             5973552993        NaN      NaN       NaN      NaN         NaN   \n...                            ...      ...       ...      ...         ...   \nrelation     2178076           NaN      NaN       NaN      NaN         NaN   \n             2479320           NaN      NaN       NaN      NaN         NaN   \n             2573239           NaN      NaN       NaN      NaN         NaN   \n             3421287           NaN      NaN       NaN      NaN         NaN   \n             7395673           NaN      NaN       NaN      NaN         NaN   \n\n                        playground                    ways          type  \nelement_type osmid                                                        \nnode         1436419052        NaN                     NaN           NaN  \n             1659480286        NaN                     NaN           NaN  \n             1659868686        NaN                     NaN           NaN  \n             4567873631        NaN                     NaN           NaN  \n             5973552993        NaN                     NaN           NaN  \n...                            ...                     ...           ...  \nrelation     2178076           NaN   [87361914, 162987502]  multipolygon  \n             2479320           NaN  [185662561, 185662559]  multipolygon  \n             2573239           NaN   [87363648, 190663416]  multipolygon  \n             3421287           NaN  [255489906, 255489907]  multipolygon  \n             7395673           NaN   [507719089, 87361906]  multipolygon  \n\n[27513 rows x 124 columns]",
      "text/html": "<div>\n<style scoped>\n    .dataframe tbody tr th:only-of-type {\n        vertical-align: middle;\n    }\n\n    .dataframe tbody tr th {\n        vertical-align: top;\n    }\n\n    .dataframe thead th {\n        text-align: right;\n    }\n</style>\n<table border=\"1\" class=\"dataframe\">\n  <thead>\n    <tr style=\"text-align: right;\">\n      <th></th>\n      <th></th>\n      <th>highway</th>\n      <th>geometry</th>\n      <th>crossing</th>\n      <th>bicycle</th>\n      <th>source</th>\n      <th>level</th>\n      <th>access</th>\n      <th>material</th>\n      <th>wheelchair</th>\n      <th>description</th>\n      <th>...</th>\n      <th>construction</th>\n      <th>place</th>\n      <th>centreline</th>\n      <th>historic</th>\n      <th>tracktype</th>\n      <th>old_name</th>\n      <th>snowplowing</th>\n      <th>playground</th>\n      <th>ways</th>\n      <th>type</th>\n    </tr>\n    <tr>\n      <th>element_type</th>\n      <th>osmid</th>\n      <th></th>\n      <th></th>\n      <th></th>\n      <th></th>\n      <th></th>\n      <th></th>\n      <th></th>\n      <th></th>\n      <th></th>\n      <th></th>\n      <th></th>\n      <th></th>\n      <th></th>\n      <th></th>\n      <th></th>\n      <th></th>\n      <th></th>\n      <th></th>\n      <th></th>\n      <th></th>\n      <th></th>\n    </tr>\n  </thead>\n  <tbody>\n    <tr>\n      <th rowspan=\"5\" valign=\"top\">node</th>\n      <th>1436419052</th>\n      <td>NaN</td>\n      <td>POINT (-75.77408 45.34763)</td>\n      <td>NaN</td>\n      <td>NaN</td>\n      <td>NaN</td>\n      <td>NaN</td>\n      <td>yes</td>\n      <td>NaN</td>\n      <td>yes</td>\n      <td>NaN</td>\n      <td>...</td>\n      <td>NaN</td>\n      <td>NaN</td>\n      <td>NaN</td>\n      <td>NaN</td>\n      <td>NaN</td>\n      <td>NaN</td>\n      <td>NaN</td>\n      <td>NaN</td>\n      <td>NaN</td>\n      <td>NaN</td>\n    </tr>\n    <tr>\n      <th>1659480286</th>\n      <td>NaN</td>\n      <td>POINT (-75.75268 45.38357)</td>\n      <td>NaN</td>\n      <td>NaN</td>\n      <td>NaN</td>\n      <td>NaN</td>\n      <td>NaN</td>\n      <td>NaN</td>\n      <td>NaN</td>\n      <td>NaN</td>\n      <td>...</td>\n      <td>NaN</td>\n      <td>NaN</td>\n      <td>NaN</td>\n      <td>NaN</td>\n      <td>NaN</td>\n      <td>NaN</td>\n      <td>NaN</td>\n      <td>NaN</td>\n      <td>NaN</td>\n      <td>NaN</td>\n    </tr>\n    <tr>\n      <th>1659868686</th>\n      <td>NaN</td>\n      <td>POINT (-75.75165 45.37562)</td>\n      <td>NaN</td>\n      <td>NaN</td>\n      <td>NaN</td>\n      <td>NaN</td>\n      <td>NaN</td>\n      <td>NaN</td>\n      <td>NaN</td>\n      <td>NaN</td>\n      <td>...</td>\n      <td>NaN</td>\n      <td>NaN</td>\n      <td>NaN</td>\n      <td>NaN</td>\n      <td>NaN</td>\n      <td>NaN</td>\n      <td>NaN</td>\n      <td>NaN</td>\n      <td>NaN</td>\n      <td>NaN</td>\n    </tr>\n    <tr>\n      <th>4567873631</th>\n      <td>NaN</td>\n      <td>POINT (-75.70546 45.46724)</td>\n      <td>NaN</td>\n      <td>NaN</td>\n      <td>NaN</td>\n      <td>NaN</td>\n      <td>customers</td>\n      <td>NaN</td>\n      <td>NaN</td>\n      <td>NaN</td>\n      <td>...</td>\n      <td>NaN</td>\n      <td>NaN</td>\n      <td>NaN</td>\n      <td>NaN</td>\n      <td>NaN</td>\n      <td>NaN</td>\n      <td>NaN</td>\n      <td>NaN</td>\n      <td>NaN</td>\n      <td>NaN</td>\n    </tr>\n    <tr>\n      <th>5973552993</th>\n      <td>NaN</td>\n      <td>POINT (-75.70492 45.34326)</td>\n      <td>NaN</td>\n      <td>NaN</td>\n      <td>NaN</td>\n      <td>NaN</td>\n      <td>NaN</td>\n      <td>NaN</td>\n      <td>NaN</td>\n      <td>NaN</td>\n      <td>...</td>\n      <td>NaN</td>\n      <td>NaN</td>\n      <td>NaN</td>\n      <td>NaN</td>\n      <td>NaN</td>\n      <td>NaN</td>\n      <td>NaN</td>\n      <td>NaN</td>\n      <td>NaN</td>\n      <td>NaN</td>\n    </tr>\n    <tr>\n      <th>...</th>\n      <th>...</th>\n      <td>...</td>\n      <td>...</td>\n      <td>...</td>\n      <td>...</td>\n      <td>...</td>\n      <td>...</td>\n      <td>...</td>\n      <td>...</td>\n      <td>...</td>\n      <td>...</td>\n      <td>...</td>\n      <td>...</td>\n      <td>...</td>\n      <td>...</td>\n      <td>...</td>\n      <td>...</td>\n      <td>...</td>\n      <td>...</td>\n      <td>...</td>\n      <td>...</td>\n      <td>...</td>\n    </tr>\n    <tr>\n      <th rowspan=\"5\" valign=\"top\">relation</th>\n      <th>2178076</th>\n      <td>NaN</td>\n      <td>POLYGON ((-75.65819 45.37720, -75.65817 45.377...</td>\n      <td>NaN</td>\n      <td>NaN</td>\n      <td>NaN</td>\n      <td>NaN</td>\n      <td>NaN</td>\n      <td>NaN</td>\n      <td>NaN</td>\n      <td>NaN</td>\n      <td>...</td>\n      <td>NaN</td>\n      <td>NaN</td>\n      <td>NaN</td>\n      <td>NaN</td>\n      <td>NaN</td>\n      <td>NaN</td>\n      <td>NaN</td>\n      <td>NaN</td>\n      <td>[87361914, 162987502]</td>\n      <td>multipolygon</td>\n    </tr>\n    <tr>\n      <th>2479320</th>\n      <td>NaN</td>\n      <td>POLYGON ((-75.64233 45.43624, -75.64228 45.436...</td>\n      <td>NaN</td>\n      <td>NaN</td>\n      <td>Bing</td>\n      <td>NaN</td>\n      <td>NaN</td>\n      <td>NaN</td>\n      <td>NaN</td>\n      <td>NaN</td>\n      <td>...</td>\n      <td>NaN</td>\n      <td>NaN</td>\n      <td>NaN</td>\n      <td>NaN</td>\n      <td>NaN</td>\n      <td>NaN</td>\n      <td>NaN</td>\n      <td>NaN</td>\n      <td>[185662561, 185662559]</td>\n      <td>multipolygon</td>\n    </tr>\n    <tr>\n      <th>2573239</th>\n      <td>NaN</td>\n      <td>POLYGON ((-75.72895 45.35584, -75.72899 45.355...</td>\n      <td>NaN</td>\n      <td>NaN</td>\n      <td>Bing</td>\n      <td>NaN</td>\n      <td>NaN</td>\n      <td>NaN</td>\n      <td>NaN</td>\n      <td>NaN</td>\n      <td>...</td>\n      <td>NaN</td>\n      <td>NaN</td>\n      <td>NaN</td>\n      <td>NaN</td>\n      <td>NaN</td>\n      <td>NaN</td>\n      <td>NaN</td>\n      <td>NaN</td>\n      <td>[87363648, 190663416]</td>\n      <td>multipolygon</td>\n    </tr>\n    <tr>\n      <th>3421287</th>\n      <td>NaN</td>\n      <td>POLYGON ((-75.65845 45.37890, -75.65842 45.378...</td>\n      <td>NaN</td>\n      <td>NaN</td>\n      <td>NaN</td>\n      <td>NaN</td>\n      <td>NaN</td>\n      <td>NaN</td>\n      <td>NaN</td>\n      <td>NaN</td>\n      <td>...</td>\n      <td>NaN</td>\n      <td>NaN</td>\n      <td>NaN</td>\n      <td>NaN</td>\n      <td>NaN</td>\n      <td>NaN</td>\n      <td>NaN</td>\n      <td>NaN</td>\n      <td>[255489906, 255489907]</td>\n      <td>multipolygon</td>\n    </tr>\n    <tr>\n      <th>7395673</th>\n      <td>NaN</td>\n      <td>POLYGON ((-75.69178 45.37076, -75.69158 45.370...</td>\n      <td>NaN</td>\n      <td>NaN</td>\n      <td>NaN</td>\n      <td>NaN</td>\n      <td>NaN</td>\n      <td>NaN</td>\n      <td>NaN</td>\n      <td>NaN</td>\n      <td>...</td>\n      <td>NaN</td>\n      <td>NaN</td>\n      <td>NaN</td>\n      <td>NaN</td>\n      <td>NaN</td>\n      <td>NaN</td>\n      <td>NaN</td>\n      <td>NaN</td>\n      <td>[507719089, 87361906]</td>\n      <td>multipolygon</td>\n    </tr>\n  </tbody>\n</table>\n<p>27513 rows × 124 columns</p>\n</div>"
     },
     "execution_count": 3,
     "metadata": {},
     "output_type": "execute_result"
    }
   ],
   "source": [
    "places"
   ],
   "metadata": {
    "collapsed": false,
    "pycharm": {
     "name": "#%%\n"
    }
   }
  },
  {
   "cell_type": "markdown",
   "source": [
    "Swimming pool count"
   ],
   "metadata": {
    "collapsed": false,
    "pycharm": {
     "name": "#%% md\n"
    }
   }
  },
  {
   "cell_type": "code",
   "execution_count": 4,
   "outputs": [
    {
     "data": {
      "text/plain": "True"
     },
     "execution_count": 4,
     "metadata": {},
     "output_type": "execute_result"
    }
   ],
   "source": [
    "# swimming_places = places[(places['leisure']== 'swimming_pool') | (places['leisure']== 'swimming_area') | (places['sport']== 'swimming')]\n",
    "# len(swimming_places)\n",
    "\n",
    "swimming_places_found = False\n",
    "try:\n",
    "    length = len(places[(places['leisure']== 'swimming_pool')])\n",
    "    if length > 0:\n",
    "        swimming_places_found = True\n",
    "except:\n",
    "    pass\n",
    "\n",
    "try:\n",
    "    if not swimming_places_found:\n",
    "        length = len(places[(places['leisure']== 'swimming_area')])\n",
    "        if length > 0:\n",
    "            swimming_places_found = True\n",
    "except:\n",
    "    pass\n",
    "\n",
    "try:\n",
    "    if not swimming_places_found:\n",
    "        length = len(places[(places['sport']== 'swimming')])\n",
    "        if length > 0:\n",
    "                swimming_places_found = True\n",
    "except:\n",
    "    pass\n",
    "\n",
    "swimming_places_found"
   ],
   "metadata": {
    "collapsed": false,
    "pycharm": {
     "name": "#%%\n"
    }
   }
  },
  {
   "cell_type": "markdown",
   "source": [
    "Swimming Pools"
   ],
   "metadata": {
    "collapsed": false,
    "pycharm": {
     "name": "#%% md\n"
    }
   }
  },
  {
   "cell_type": "code",
   "execution_count": 5,
   "outputs": [
    {
     "data": {
      "text/plain": "                        highway  \\\nelement_type osmid                \nnode         1436419052     NaN   \n             1659480286     NaN   \n             1659868686     NaN   \n             8084274730     NaN   \nway          18542385       NaN   \n...                         ...   \n             1055787692     NaN   \n             1055787693     NaN   \n             1055787694     NaN   \n             1055787695     NaN   \n             1055787696     NaN   \n\n                                                                  geometry  \\\nelement_type osmid                                                           \nnode         1436419052                         POINT (-75.77408 45.34763)   \n             1659480286                         POINT (-75.75268 45.38357)   \n             1659868686                         POINT (-75.75165 45.37562)   \n             8084274730                         POINT (-75.68270 45.42291)   \nway          18542385    POLYGON ((-75.71268 45.36327, -75.71278 45.363...   \n...                                                                    ...   \n             1055787692  POLYGON ((-75.66688 45.38831, -75.66683 45.388...   \n             1055787693  POLYGON ((-75.66740 45.39115, -75.66735 45.391...   \n             1055787694  POLYGON ((-75.67037 45.39182, -75.67033 45.391...   \n             1055787695  POLYGON ((-75.67067 45.39195, -75.67065 45.391...   \n             1055787696  POLYGON ((-75.67066 45.38863, -75.67068 45.388...   \n\n                        crossing bicycle source level     access material  \\\nelement_type osmid                                                          \nnode         1436419052      NaN     NaN    NaN   NaN        yes      NaN   \n             1659480286      NaN     NaN    NaN   NaN        NaN      NaN   \n             1659868686      NaN     NaN    NaN   NaN        NaN      NaN   \n             8084274730      NaN     NaN    NaN   NaN  customers      NaN   \nway          18542385        NaN     NaN    NaN   NaN        NaN      NaN   \n...                          ...     ...    ...   ...        ...      ...   \n             1055787692      NaN     NaN    NaN   NaN    private      NaN   \n             1055787693      NaN     NaN    NaN   NaN    private      NaN   \n             1055787694      NaN     NaN    NaN   NaN    private      NaN   \n             1055787695      NaN     NaN    NaN   NaN    private      NaN   \n             1055787696      NaN     NaN    NaN   NaN    private      NaN   \n\n                        wheelchair description  ... construction place  \\\nelement_type osmid                              ...                      \nnode         1436419052        yes         NaN  ...          NaN   NaN   \n             1659480286        NaN         NaN  ...          NaN   NaN   \n             1659868686        NaN         NaN  ...          NaN   NaN   \n             8084274730        NaN         NaN  ...          NaN   NaN   \nway          18542385          NaN         NaN  ...          NaN   NaN   \n...                            ...         ...  ...          ...   ...   \n             1055787692        NaN         NaN  ...          NaN   NaN   \n             1055787693        NaN         NaN  ...          NaN   NaN   \n             1055787694        NaN         NaN  ...          NaN   NaN   \n             1055787695        NaN         NaN  ...          NaN   NaN   \n             1055787696        NaN         NaN  ...          NaN   NaN   \n\n                        centreline historic tracktype old_name snowplowing  \\\nelement_type osmid                                                           \nnode         1436419052        NaN      NaN       NaN      NaN         NaN   \n             1659480286        NaN      NaN       NaN      NaN         NaN   \n             1659868686        NaN      NaN       NaN      NaN         NaN   \n             8084274730        NaN      NaN       NaN      NaN         NaN   \nway          18542385          NaN      NaN       NaN      NaN         NaN   \n...                            ...      ...       ...      ...         ...   \n             1055787692        NaN      NaN       NaN      NaN         NaN   \n             1055787693        NaN      NaN       NaN      NaN         NaN   \n             1055787694        NaN      NaN       NaN      NaN         NaN   \n             1055787695        NaN      NaN       NaN      NaN         NaN   \n             1055787696        NaN      NaN       NaN      NaN         NaN   \n\n                        playground ways type  \nelement_type osmid                            \nnode         1436419052        NaN  NaN  NaN  \n             1659480286        NaN  NaN  NaN  \n             1659868686        NaN  NaN  NaN  \n             8084274730        NaN  NaN  NaN  \nway          18542385          NaN  NaN  NaN  \n...                            ...  ...  ...  \n             1055787692        NaN  NaN  NaN  \n             1055787693        NaN  NaN  NaN  \n             1055787694        NaN  NaN  NaN  \n             1055787695        NaN  NaN  NaN  \n             1055787696        NaN  NaN  NaN  \n\n[342 rows x 124 columns]",
      "text/html": "<div>\n<style scoped>\n    .dataframe tbody tr th:only-of-type {\n        vertical-align: middle;\n    }\n\n    .dataframe tbody tr th {\n        vertical-align: top;\n    }\n\n    .dataframe thead th {\n        text-align: right;\n    }\n</style>\n<table border=\"1\" class=\"dataframe\">\n  <thead>\n    <tr style=\"text-align: right;\">\n      <th></th>\n      <th></th>\n      <th>highway</th>\n      <th>geometry</th>\n      <th>crossing</th>\n      <th>bicycle</th>\n      <th>source</th>\n      <th>level</th>\n      <th>access</th>\n      <th>material</th>\n      <th>wheelchair</th>\n      <th>description</th>\n      <th>...</th>\n      <th>construction</th>\n      <th>place</th>\n      <th>centreline</th>\n      <th>historic</th>\n      <th>tracktype</th>\n      <th>old_name</th>\n      <th>snowplowing</th>\n      <th>playground</th>\n      <th>ways</th>\n      <th>type</th>\n    </tr>\n    <tr>\n      <th>element_type</th>\n      <th>osmid</th>\n      <th></th>\n      <th></th>\n      <th></th>\n      <th></th>\n      <th></th>\n      <th></th>\n      <th></th>\n      <th></th>\n      <th></th>\n      <th></th>\n      <th></th>\n      <th></th>\n      <th></th>\n      <th></th>\n      <th></th>\n      <th></th>\n      <th></th>\n      <th></th>\n      <th></th>\n      <th></th>\n      <th></th>\n    </tr>\n  </thead>\n  <tbody>\n    <tr>\n      <th rowspan=\"4\" valign=\"top\">node</th>\n      <th>1436419052</th>\n      <td>NaN</td>\n      <td>POINT (-75.77408 45.34763)</td>\n      <td>NaN</td>\n      <td>NaN</td>\n      <td>NaN</td>\n      <td>NaN</td>\n      <td>yes</td>\n      <td>NaN</td>\n      <td>yes</td>\n      <td>NaN</td>\n      <td>...</td>\n      <td>NaN</td>\n      <td>NaN</td>\n      <td>NaN</td>\n      <td>NaN</td>\n      <td>NaN</td>\n      <td>NaN</td>\n      <td>NaN</td>\n      <td>NaN</td>\n      <td>NaN</td>\n      <td>NaN</td>\n    </tr>\n    <tr>\n      <th>1659480286</th>\n      <td>NaN</td>\n      <td>POINT (-75.75268 45.38357)</td>\n      <td>NaN</td>\n      <td>NaN</td>\n      <td>NaN</td>\n      <td>NaN</td>\n      <td>NaN</td>\n      <td>NaN</td>\n      <td>NaN</td>\n      <td>NaN</td>\n      <td>...</td>\n      <td>NaN</td>\n      <td>NaN</td>\n      <td>NaN</td>\n      <td>NaN</td>\n      <td>NaN</td>\n      <td>NaN</td>\n      <td>NaN</td>\n      <td>NaN</td>\n      <td>NaN</td>\n      <td>NaN</td>\n    </tr>\n    <tr>\n      <th>1659868686</th>\n      <td>NaN</td>\n      <td>POINT (-75.75165 45.37562)</td>\n      <td>NaN</td>\n      <td>NaN</td>\n      <td>NaN</td>\n      <td>NaN</td>\n      <td>NaN</td>\n      <td>NaN</td>\n      <td>NaN</td>\n      <td>NaN</td>\n      <td>...</td>\n      <td>NaN</td>\n      <td>NaN</td>\n      <td>NaN</td>\n      <td>NaN</td>\n      <td>NaN</td>\n      <td>NaN</td>\n      <td>NaN</td>\n      <td>NaN</td>\n      <td>NaN</td>\n      <td>NaN</td>\n    </tr>\n    <tr>\n      <th>8084274730</th>\n      <td>NaN</td>\n      <td>POINT (-75.68270 45.42291)</td>\n      <td>NaN</td>\n      <td>NaN</td>\n      <td>NaN</td>\n      <td>NaN</td>\n      <td>customers</td>\n      <td>NaN</td>\n      <td>NaN</td>\n      <td>NaN</td>\n      <td>...</td>\n      <td>NaN</td>\n      <td>NaN</td>\n      <td>NaN</td>\n      <td>NaN</td>\n      <td>NaN</td>\n      <td>NaN</td>\n      <td>NaN</td>\n      <td>NaN</td>\n      <td>NaN</td>\n      <td>NaN</td>\n    </tr>\n    <tr>\n      <th rowspan=\"7\" valign=\"top\">way</th>\n      <th>18542385</th>\n      <td>NaN</td>\n      <td>POLYGON ((-75.71268 45.36327, -75.71278 45.363...</td>\n      <td>NaN</td>\n      <td>NaN</td>\n      <td>NaN</td>\n      <td>NaN</td>\n      <td>NaN</td>\n      <td>NaN</td>\n      <td>NaN</td>\n      <td>NaN</td>\n      <td>...</td>\n      <td>NaN</td>\n      <td>NaN</td>\n      <td>NaN</td>\n      <td>NaN</td>\n      <td>NaN</td>\n      <td>NaN</td>\n      <td>NaN</td>\n      <td>NaN</td>\n      <td>NaN</td>\n      <td>NaN</td>\n    </tr>\n    <tr>\n      <th>...</th>\n      <td>...</td>\n      <td>...</td>\n      <td>...</td>\n      <td>...</td>\n      <td>...</td>\n      <td>...</td>\n      <td>...</td>\n      <td>...</td>\n      <td>...</td>\n      <td>...</td>\n      <td>...</td>\n      <td>...</td>\n      <td>...</td>\n      <td>...</td>\n      <td>...</td>\n      <td>...</td>\n      <td>...</td>\n      <td>...</td>\n      <td>...</td>\n      <td>...</td>\n      <td>...</td>\n    </tr>\n    <tr>\n      <th>1055787692</th>\n      <td>NaN</td>\n      <td>POLYGON ((-75.66688 45.38831, -75.66683 45.388...</td>\n      <td>NaN</td>\n      <td>NaN</td>\n      <td>NaN</td>\n      <td>NaN</td>\n      <td>private</td>\n      <td>NaN</td>\n      <td>NaN</td>\n      <td>NaN</td>\n      <td>...</td>\n      <td>NaN</td>\n      <td>NaN</td>\n      <td>NaN</td>\n      <td>NaN</td>\n      <td>NaN</td>\n      <td>NaN</td>\n      <td>NaN</td>\n      <td>NaN</td>\n      <td>NaN</td>\n      <td>NaN</td>\n    </tr>\n    <tr>\n      <th>1055787693</th>\n      <td>NaN</td>\n      <td>POLYGON ((-75.66740 45.39115, -75.66735 45.391...</td>\n      <td>NaN</td>\n      <td>NaN</td>\n      <td>NaN</td>\n      <td>NaN</td>\n      <td>private</td>\n      <td>NaN</td>\n      <td>NaN</td>\n      <td>NaN</td>\n      <td>...</td>\n      <td>NaN</td>\n      <td>NaN</td>\n      <td>NaN</td>\n      <td>NaN</td>\n      <td>NaN</td>\n      <td>NaN</td>\n      <td>NaN</td>\n      <td>NaN</td>\n      <td>NaN</td>\n      <td>NaN</td>\n    </tr>\n    <tr>\n      <th>1055787694</th>\n      <td>NaN</td>\n      <td>POLYGON ((-75.67037 45.39182, -75.67033 45.391...</td>\n      <td>NaN</td>\n      <td>NaN</td>\n      <td>NaN</td>\n      <td>NaN</td>\n      <td>private</td>\n      <td>NaN</td>\n      <td>NaN</td>\n      <td>NaN</td>\n      <td>...</td>\n      <td>NaN</td>\n      <td>NaN</td>\n      <td>NaN</td>\n      <td>NaN</td>\n      <td>NaN</td>\n      <td>NaN</td>\n      <td>NaN</td>\n      <td>NaN</td>\n      <td>NaN</td>\n      <td>NaN</td>\n    </tr>\n    <tr>\n      <th>1055787695</th>\n      <td>NaN</td>\n      <td>POLYGON ((-75.67067 45.39195, -75.67065 45.391...</td>\n      <td>NaN</td>\n      <td>NaN</td>\n      <td>NaN</td>\n      <td>NaN</td>\n      <td>private</td>\n      <td>NaN</td>\n      <td>NaN</td>\n      <td>NaN</td>\n      <td>...</td>\n      <td>NaN</td>\n      <td>NaN</td>\n      <td>NaN</td>\n      <td>NaN</td>\n      <td>NaN</td>\n      <td>NaN</td>\n      <td>NaN</td>\n      <td>NaN</td>\n      <td>NaN</td>\n      <td>NaN</td>\n    </tr>\n    <tr>\n      <th>1055787696</th>\n      <td>NaN</td>\n      <td>POLYGON ((-75.67066 45.38863, -75.67068 45.388...</td>\n      <td>NaN</td>\n      <td>NaN</td>\n      <td>NaN</td>\n      <td>NaN</td>\n      <td>private</td>\n      <td>NaN</td>\n      <td>NaN</td>\n      <td>NaN</td>\n      <td>...</td>\n      <td>NaN</td>\n      <td>NaN</td>\n      <td>NaN</td>\n      <td>NaN</td>\n      <td>NaN</td>\n      <td>NaN</td>\n      <td>NaN</td>\n      <td>NaN</td>\n      <td>NaN</td>\n      <td>NaN</td>\n    </tr>\n  </tbody>\n</table>\n<p>342 rows × 124 columns</p>\n</div>"
     },
     "execution_count": 5,
     "metadata": {},
     "output_type": "execute_result"
    }
   ],
   "source": [
    "places[(places['leisure']== 'swimming_pool')]"
   ],
   "metadata": {
    "collapsed": false,
    "pycharm": {
     "name": "#%%\n"
    }
   }
  },
  {
   "cell_type": "markdown",
   "source": [
    "Walking path count"
   ],
   "metadata": {
    "collapsed": false,
    "pycharm": {
     "name": "#%% md\n"
    }
   }
  },
  {
   "cell_type": "code",
   "execution_count": 6,
   "outputs": [
    {
     "data": {
      "text/plain": "True"
     },
     "execution_count": 6,
     "metadata": {},
     "output_type": "execute_result"
    }
   ],
   "source": [
    "# walking_paths = places[(places['leisure']== 'track') | (places['highway']== 'footway') |  (places['route']== 'foot') | (places['route']== 'running') | (places['leisure']== 'running') | (places['sport']== 'running')]\n",
    "# len(walking_paths)\n",
    "\n",
    "walking_paths_found = False\n",
    "try:\n",
    "    length = len(places[(places['leisure']== 'track')])\n",
    "    if length > 0:\n",
    "        walking_paths_found = True\n",
    "except:\n",
    "    pass\n",
    "\n",
    "try:\n",
    "    if not walking_paths_found:\n",
    "        length = len(places[(places['highway']== 'footway')])\n",
    "        if length > 0:\n",
    "            walking_paths_found = True\n",
    "except:\n",
    "    pass\n",
    "\n",
    "try:\n",
    "    if not walking_paths_found:\n",
    "        length = len(places[(places['route']== 'foot')])\n",
    "        if length > 0:\n",
    "            walking_paths_found = True\n",
    "except:\n",
    "    pass\n",
    "\n",
    "try:\n",
    "    if not walking_paths_found:\n",
    "        length = len(places[(places['route']== 'running')])\n",
    "        if length > 0:\n",
    "            walking_paths_found = True\n",
    "except:\n",
    "    pass\n",
    "\n",
    "try:\n",
    "    if not walking_paths_found:\n",
    "        length = len(places[(places['leisure']== 'running')])\n",
    "        if length > 0:\n",
    "            walking_paths_found = True\n",
    "except:\n",
    "    pass\n",
    "\n",
    "try:\n",
    "    if not walking_paths_found:\n",
    "        length = len(places[(places['sport']== 'running')])\n",
    "        if length > 0:\n",
    "            walking_paths_found = True\n",
    "except:\n",
    "    pass\n",
    "\n",
    "walking_paths_found"
   ],
   "metadata": {
    "collapsed": false,
    "pycharm": {
     "name": "#%%\n"
    }
   }
  }
 ],
 "metadata": {
  "kernelspec": {
   "display_name": "Python 3",
   "language": "python",
   "name": "python3"
  },
  "language_info": {
   "codemirror_mode": {
    "name": "ipython",
    "version": 2
   },
   "file_extension": ".py",
   "mimetype": "text/x-python",
   "name": "python",
   "nbconvert_exporter": "python",
   "pygments_lexer": "ipython2",
   "version": "2.7.6"
  }
 },
 "nbformat": 4,
 "nbformat_minor": 0
}